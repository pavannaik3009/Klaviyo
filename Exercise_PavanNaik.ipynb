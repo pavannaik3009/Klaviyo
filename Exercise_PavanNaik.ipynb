{
 "cells": [
  {
   "cell_type": "markdown",
   "metadata": {},
   "source": [
    "#### Pavan Kumar Srikanth Naik (pavankumar.s.naik@gmail.com)"
   ]
  },
  {
   "cell_type": "code",
   "execution_count": 1,
   "metadata": {},
   "outputs": [],
   "source": [
    "#importing packages\n",
    "\n",
    "import numpy as np\n",
    "import pandas as pd\n",
    "import matplotlib.pyplot as plt\n",
    "from scipy import stats\n",
    "from sklearn.metrics import classification_report\n",
    "from sklearn.metrics import confusion_matrix"
   ]
  },
  {
   "cell_type": "code",
   "execution_count": 2,
   "metadata": {},
   "outputs": [],
   "source": [
    "df = pd.read_csv('screening_exercise_orders.csv')"
   ]
  },
  {
   "cell_type": "code",
   "execution_count": 3,
   "metadata": {
    "scrolled": true
   },
   "outputs": [
    {
     "data": {
      "text/html": [
       "<div>\n",
       "<style scoped>\n",
       "    .dataframe tbody tr th:only-of-type {\n",
       "        vertical-align: middle;\n",
       "    }\n",
       "\n",
       "    .dataframe tbody tr th {\n",
       "        vertical-align: top;\n",
       "    }\n",
       "\n",
       "    .dataframe thead th {\n",
       "        text-align: right;\n",
       "    }\n",
       "</style>\n",
       "<table border=\"1\" class=\"dataframe\">\n",
       "  <thead>\n",
       "    <tr style=\"text-align: right;\">\n",
       "      <th></th>\n",
       "      <th>customer_id</th>\n",
       "      <th>gender</th>\n",
       "      <th>value</th>\n",
       "      <th>predicted_gender</th>\n",
       "    </tr>\n",
       "  </thead>\n",
       "  <tbody>\n",
       "    <tr>\n",
       "      <th>count</th>\n",
       "      <td>13471.000000</td>\n",
       "      <td>13471.000000</td>\n",
       "      <td>13471.000000</td>\n",
       "      <td>13471.000000</td>\n",
       "    </tr>\n",
       "    <tr>\n",
       "      <th>mean</th>\n",
       "      <td>5033.693564</td>\n",
       "      <td>0.498256</td>\n",
       "      <td>357.322179</td>\n",
       "      <td>0.642788</td>\n",
       "    </tr>\n",
       "    <tr>\n",
       "      <th>std</th>\n",
       "      <td>2500.179222</td>\n",
       "      <td>0.500016</td>\n",
       "      <td>387.210821</td>\n",
       "      <td>0.479196</td>\n",
       "    </tr>\n",
       "    <tr>\n",
       "      <th>min</th>\n",
       "      <td>1000.000000</td>\n",
       "      <td>0.000000</td>\n",
       "      <td>0.000000</td>\n",
       "      <td>0.000000</td>\n",
       "    </tr>\n",
       "    <tr>\n",
       "      <th>25%</th>\n",
       "      <td>2890.500000</td>\n",
       "      <td>0.000000</td>\n",
       "      <td>161.200000</td>\n",
       "      <td>0.000000</td>\n",
       "    </tr>\n",
       "    <tr>\n",
       "      <th>50%</th>\n",
       "      <td>4850.000000</td>\n",
       "      <td>0.000000</td>\n",
       "      <td>258.000000</td>\n",
       "      <td>1.000000</td>\n",
       "    </tr>\n",
       "    <tr>\n",
       "      <th>75%</th>\n",
       "      <td>7157.000000</td>\n",
       "      <td>1.000000</td>\n",
       "      <td>426.000000</td>\n",
       "      <td>1.000000</td>\n",
       "    </tr>\n",
       "    <tr>\n",
       "      <th>max</th>\n",
       "      <td>9813.000000</td>\n",
       "      <td>1.000000</td>\n",
       "      <td>8046.300000</td>\n",
       "      <td>1.000000</td>\n",
       "    </tr>\n",
       "  </tbody>\n",
       "</table>\n",
       "</div>"
      ],
      "text/plain": [
       "        customer_id        gender         value  predicted_gender\n",
       "count  13471.000000  13471.000000  13471.000000      13471.000000\n",
       "mean    5033.693564      0.498256    357.322179          0.642788\n",
       "std     2500.179222      0.500016    387.210821          0.479196\n",
       "min     1000.000000      0.000000      0.000000          0.000000\n",
       "25%     2890.500000      0.000000    161.200000          0.000000\n",
       "50%     4850.000000      0.000000    258.000000          1.000000\n",
       "75%     7157.000000      1.000000    426.000000          1.000000\n",
       "max     9813.000000      1.000000   8046.300000          1.000000"
      ]
     },
     "execution_count": 3,
     "metadata": {},
     "output_type": "execute_result"
    }
   ],
   "source": [
    "df.describe()"
   ]
  },
  {
   "cell_type": "code",
   "execution_count": 4,
   "metadata": {},
   "outputs": [
    {
     "data": {
      "text/plain": [
       "customer_id         13471\n",
       "gender              13471\n",
       "date                13471\n",
       "value               13471\n",
       "predicted_gender    13471\n",
       "dtype: int64"
      ]
     },
     "execution_count": 4,
     "metadata": {},
     "output_type": "execute_result"
    }
   ],
   "source": [
    "df.isnull().count()"
   ]
  },
  {
   "cell_type": "markdown",
   "metadata": {},
   "source": [
    "We can see from the above output that there are 13471 rows and there are no null values in any column in the given dataset."
   ]
  },
  {
   "cell_type": "markdown",
   "metadata": {},
   "source": [
    "### A) Sort the dataframe by customer_id ascending and display the first 10 rows."
   ]
  },
  {
   "cell_type": "code",
   "execution_count": 5,
   "metadata": {},
   "outputs": [],
   "source": [
    "# Computing order_count (number of orders placed by each customer) by counting the customer IDs and converting it to a dataframe.\n",
    "order_count = df['customer_id'].value_counts()\n",
    "count_df = order_count.to_frame().reset_index()\n",
    "count_df.columns = ['customer_id','order_count']"
   ]
  },
  {
   "cell_type": "code",
   "execution_count": 6,
   "metadata": {},
   "outputs": [],
   "source": [
    "# Showing the most recent orders by grouping customers and gender, and sorting by recent date for each group\n",
    "recentorder = df.groupby(['customer_id','gender'], sort=False)['date'].max()\n",
    "recentorder_df = recentorder.to_frame().reset_index()\n",
    "recentorder_df.columns = ['customer_id','gender','most_recent_order_date']"
   ]
  },
  {
   "cell_type": "code",
   "execution_count": 7,
   "metadata": {},
   "outputs": [],
   "source": [
    "# Joining dataframes \n",
    "orders_df = recentorder_df.set_index('customer_id').join(count_df.set_index('customer_id'))"
   ]
  },
  {
   "cell_type": "code",
   "execution_count": 8,
   "metadata": {},
   "outputs": [
    {
     "data": {
      "text/html": [
       "<div>\n",
       "<style scoped>\n",
       "    .dataframe tbody tr th:only-of-type {\n",
       "        vertical-align: middle;\n",
       "    }\n",
       "\n",
       "    .dataframe tbody tr th {\n",
       "        vertical-align: top;\n",
       "    }\n",
       "\n",
       "    .dataframe thead th {\n",
       "        text-align: right;\n",
       "    }\n",
       "</style>\n",
       "<table border=\"1\" class=\"dataframe\">\n",
       "  <thead>\n",
       "    <tr style=\"text-align: right;\">\n",
       "      <th></th>\n",
       "      <th>gender</th>\n",
       "      <th>most_recent_order_date</th>\n",
       "      <th>order_count</th>\n",
       "    </tr>\n",
       "    <tr>\n",
       "      <th>customer_id</th>\n",
       "      <th></th>\n",
       "      <th></th>\n",
       "      <th></th>\n",
       "    </tr>\n",
       "  </thead>\n",
       "  <tbody>\n",
       "    <tr>\n",
       "      <th>1000</th>\n",
       "      <td>0</td>\n",
       "      <td>2017-01-01 00:11:31</td>\n",
       "      <td>1</td>\n",
       "    </tr>\n",
       "    <tr>\n",
       "      <th>1001</th>\n",
       "      <td>0</td>\n",
       "      <td>2017-01-01 00:29:56</td>\n",
       "      <td>1</td>\n",
       "    </tr>\n",
       "    <tr>\n",
       "      <th>1002</th>\n",
       "      <td>1</td>\n",
       "      <td>2017-02-19 21:35:31</td>\n",
       "      <td>3</td>\n",
       "    </tr>\n",
       "    <tr>\n",
       "      <th>1003</th>\n",
       "      <td>1</td>\n",
       "      <td>2017-04-26 02:37:20</td>\n",
       "      <td>4</td>\n",
       "    </tr>\n",
       "    <tr>\n",
       "      <th>1004</th>\n",
       "      <td>0</td>\n",
       "      <td>2017-01-01 03:11:54</td>\n",
       "      <td>1</td>\n",
       "    </tr>\n",
       "    <tr>\n",
       "      <th>1005</th>\n",
       "      <td>1</td>\n",
       "      <td>2017-12-16 01:39:27</td>\n",
       "      <td>2</td>\n",
       "    </tr>\n",
       "    <tr>\n",
       "      <th>1006</th>\n",
       "      <td>1</td>\n",
       "      <td>2017-05-09 15:27:20</td>\n",
       "      <td>3</td>\n",
       "    </tr>\n",
       "    <tr>\n",
       "      <th>1007</th>\n",
       "      <td>0</td>\n",
       "      <td>2017-01-01 15:59:50</td>\n",
       "      <td>1</td>\n",
       "    </tr>\n",
       "    <tr>\n",
       "      <th>1008</th>\n",
       "      <td>0</td>\n",
       "      <td>2017-12-17 05:47:48</td>\n",
       "      <td>3</td>\n",
       "    </tr>\n",
       "    <tr>\n",
       "      <th>1009</th>\n",
       "      <td>1</td>\n",
       "      <td>2017-01-01 19:27:17</td>\n",
       "      <td>1</td>\n",
       "    </tr>\n",
       "  </tbody>\n",
       "</table>\n",
       "</div>"
      ],
      "text/plain": [
       "             gender most_recent_order_date  order_count\n",
       "customer_id                                            \n",
       "1000              0    2017-01-01 00:11:31            1\n",
       "1001              0    2017-01-01 00:29:56            1\n",
       "1002              1    2017-02-19 21:35:31            3\n",
       "1003              1    2017-04-26 02:37:20            4\n",
       "1004              0    2017-01-01 03:11:54            1\n",
       "1005              1    2017-12-16 01:39:27            2\n",
       "1006              1    2017-05-09 15:27:20            3\n",
       "1007              0    2017-01-01 15:59:50            1\n",
       "1008              0    2017-12-17 05:47:48            3\n",
       "1009              1    2017-01-01 19:27:17            1"
      ]
     },
     "execution_count": 8,
     "metadata": {},
     "output_type": "execute_result"
    }
   ],
   "source": [
    "#Displaying the top 10 rows \n",
    "\n",
    "orders_df.head(10)"
   ]
  },
  {
   "cell_type": "markdown",
   "metadata": {},
   "source": [
    "### B) Plot the count of orders per week for the store."
   ]
  },
  {
   "cell_type": "code",
   "execution_count": 9,
   "metadata": {},
   "outputs": [],
   "source": [
    "#Formatted datetime values to extract the week values, and grouped the data to count total weekly orders.\n",
    "df['date'] = pd.to_datetime(df['date'])\n",
    "df['week'] = df.date.dt.strftime('%U')\n",
    "week_count = df.groupby(['week'])['value'].count()\n",
    "week_count.columns = ['Orders per Week', 'week']"
   ]
  },
  {
   "cell_type": "code",
   "execution_count": 10,
   "metadata": {},
   "outputs": [
    {
     "name": "stderr",
     "output_type": "stream",
     "text": [
      "/anaconda3/lib/python3.6/site-packages/pandas/plotting/_core.py:185: UserWarning: 'colors' is being deprecated. Please use 'color'instead of 'colors'\n",
      "  warnings.warn((\"'colors' is being deprecated. Please use 'color'\"\n"
     ]
    },
    {
     "data": {
      "image/png": "[encoded data removed]",
      "text/plain": [
       "<Figure size 1800x720 with 1 Axes>"
      ]
     },
     "metadata": {
      "needs_background": "light"
     },
     "output_type": "display_data"
    }
   ],
   "source": [
    "\"\"\"Plotting count of orders for each week of the year. Used Horizontal lines for the background to get a glimpse of \n",
    "    weeks where the count exceeded certain threshold\"\"\"\n",
    "\n",
    "ax = week_count.plot.bar(colors=\"#A6D6FB\", figsize=(25,10), fontsize=13, edgecolor='#008FFF')\n",
    "for i in ax.patches:\n",
    "    ax.annotate(np.round(i.get_height()), (i.get_x()+i.get_width()/2, i.get_height()),\n",
    "         ha='center', va='center', color='#4F616B',fontsize =14,\n",
    "         xytext=(2,8), textcoords='offset points')\n",
    "ax.yaxis.grid()\n",
    "ax.set_title('Orders per Week', fontsize=24, color='black', pad=20)\n",
    "plt.ylabel('Count of Orders',fontsize=20, color='black')\n",
    "plt.xlabel('Week Number',fontsize=20, color='black')\n",
    "ax.yaxis.labelpad = 20\n",
    "ax.xaxis.labelpad = 20\n",
    "plt.show()"
   ]
  },
  {
   "cell_type": "markdown",
   "metadata": {},
   "source": [
    "### C) Compute the mean order value for gender 0 and for gender 1. Do you think the difference is significant? Justify your choice of method."
   ]
  },
  {
   "cell_type": "code",
   "execution_count": 11,
   "metadata": {},
   "outputs": [
    {
     "name": "stdout",
     "output_type": "stream",
     "text": [
      "Mean order value for: gender\n",
      "0    363.890006\n",
      "1    350.708361\n",
      "Name: value, dtype: float64\n"
     ]
    }
   ],
   "source": [
    "mu = df.groupby('gender')['value'].mean()\n",
    "print(\"Mean order value for:\", mu)"
   ]
  },
  {
   "cell_type": "markdown",
   "metadata": {},
   "source": [
    "#### Performing t-test to check for p-value with 95% confidence over the significant differnce.\n",
    "Null Hypothesis: Mean values of gender 0 and gender 1 are not signficantly different\n",
    "\n",
    "Alternate Hypothesis: Mean values of gender 0 and gender 1 are significantly different"
   ]
  },
  {
   "cell_type": "code",
   "execution_count": 12,
   "metadata": {},
   "outputs": [],
   "source": [
    "#variance\n",
    "var = df.groupby('gender')['value'].var(ddof=1)"
   ]
  },
  {
   "cell_type": "code",
   "execution_count": 13,
   "metadata": {},
   "outputs": [],
   "source": [
    "#standard deviation\n",
    "sd = np.sqrt((var[0] + var[1])/2)"
   ]
  },
  {
   "cell_type": "code",
   "execution_count": 14,
   "metadata": {},
   "outputs": [],
   "source": [
    "N = (df['customer_id'].count())/2\n",
    "#t-statistic\n",
    "tt = (mu[0] - mu[1])/(sd*np.sqrt(2/N))\n",
    "\n",
    "#p-value \n",
    "pval = stats.t.sf(np.abs(tt), N-1)*2"
   ]
  },
  {
   "cell_type": "code",
   "execution_count": 15,
   "metadata": {},
   "outputs": [
    {
     "name": "stdout",
     "output_type": "stream",
     "text": [
      "t-value: 1.9759505628067568 p-value: 0.04820112750826186\n"
     ]
    }
   ],
   "source": [
    "print(\"t-value: \"+ str(tt) + \" p-value: \" + str(pval))"
   ]
  },
  {
   "cell_type": "markdown",
   "metadata": {},
   "source": [
    "We have used t-test to check for p-value to see if the difference in mean for gender 0 and gender 1 is significantly different. \n",
    "It can be seen that the p-value is 0.048 which is less than 0.05 (threshold), hence rejecting the null hypothesis with 95% confidence.\n",
    "##### The mean values of gender 0 and gender 1 are significantly different."
   ]
  },
  {
   "cell_type": "markdown",
   "metadata": {},
   "source": [
    "### D) Generate a confusion matrix for the gender predictions of customers in this dataset. You can assume that there is only one gender prediction for each customer. What does the confusion matrix tell you about the quality of the predictions?"
   ]
  },
  {
   "cell_type": "code",
   "execution_count": 16,
   "metadata": {},
   "outputs": [
    {
     "name": "stdout",
     "output_type": "stream",
     "text": [
      "[[3349 3410]\n",
      " [1463 5249]]\n"
     ]
    }
   ],
   "source": [
    "cm=confusion_matrix(df['gender'] , df['predicted_gender'])\n",
    "print(cm)"
   ]
  },
  {
   "cell_type": "markdown",
   "metadata": {},
   "source": [
    "As we can see from the confusion matrix, \n",
    "\n",
    "True Positive - 3349 &emsp; &emsp; False Negative - 3410\n",
    "\n",
    "False Positive - 1463 &emsp; &ensp; True Negative - 5249"
   ]
  },
  {
   "cell_type": "code",
   "execution_count": 17,
   "metadata": {},
   "outputs": [
    {
     "name": "stdout",
     "output_type": "stream",
     "text": [
      "              precision    recall  f1-score   support\n",
      "\n",
      "           0       0.70      0.50      0.58      6759\n",
      "           1       0.61      0.78      0.68      6712\n",
      "\n",
      "    accuracy                           0.64     13471\n",
      "   macro avg       0.65      0.64      0.63     13471\n",
      "weighted avg       0.65      0.64      0.63     13471\n",
      "\n"
     ]
    }
   ],
   "source": [
    "print(classification_report(df['gender'] , df['predicted_gender']))"
   ]
  },
  {
   "cell_type": "markdown",
   "metadata": {},
   "source": [
    "#### The confusion matrix and the classification report indicates that the quality of prediction is decent as we can see it has a precision of 0.65 to classify gender 0 and gender 1, and also it has approximately the same recall and F1 - score. "
   ]
  },
  {
   "cell_type": "markdown",
   "metadata": {},
   "source": [
    "### E) Describe one of your favorite tools or techniques and give a small example of how it has helped you solve a problem. Limit your answer to one paragraph, and please be specific."
   ]
  },
  {
   "cell_type": "markdown",
   "metadata": {},
   "source": [
    "My favorite tool to work with is Python. I have worked on many projects that involved end to end pipelining of Data Science. A key benefit of using python is that it offers access to a wide variety of data analysis and data science libraries. Pandas, NumPy, SciPy, StatsModels, scikit-learn, Seaborn, matPlotLib are some of the many available libraries that I love to use in most of my projects. The most recent project that I have worked on is based on the ongoing COVID-19 pandemic. I collected the data from JHU/WHO repositories and cleaned the data using data munging/wrangling techniques, and drew meaningful insights using plotly/foliam packages with respect to the confirmed/recovered/mortality cases and forecasted in a time series prediction using Facebook's prophet model. All the visualizations and plots were then formulated into a stand alone dashboard using Voila."
   ]
  }
 ],
 "metadata": {
  "kernelspec": {
   "display_name": "Python 3",
   "language": "python",
   "name": "python3"
  },
  "language_info": {
   "codemirror_mode": {
    "name": "ipython",
    "version": 3
   },
   "file_extension": ".py",
   "mimetype": "text/x-python",
   "name": "python",
   "nbconvert_exporter": "python",
   "pygments_lexer": "ipython3",
   "version": "3.6.8"
  }
 },
 "nbformat": 4,
 "nbformat_minor": 2
}
